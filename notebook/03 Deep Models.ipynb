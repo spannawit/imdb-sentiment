{
 "cells": [
  {
   "cell_type": "markdown",
   "id": "0c643da3",
   "metadata": {},
   "source": [
    "# IMDb Sentiment Analysis - Deep Learning Models"
   ]
  },
  {
   "cell_type": "code",
   "execution_count": 1,
   "id": "8ba040cc",
   "metadata": {},
   "outputs": [
    {
     "name": "stderr",
     "output_type": "stream",
     "text": [
      "/usr/local/lib/python3.10/site-packages/tqdm/auto.py:21: TqdmWarning: IProgress not found. Please update jupyter and ipywidgets. See https://ipywidgets.readthedocs.io/en/stable/user_install.html\n",
      "  from .autonotebook import tqdm as notebook_tqdm\n"
     ]
    }
   ],
   "source": [
    "# Imports and configurations\n",
    "import gc\n",
    "import pandas as pd\n",
    "import joblib\n",
    "\n",
    "import torch\n",
    "import torch.nn as nn\n",
    "from torch.utils.data import Dataset, DataLoader\n",
    "from sklearn.model_selection import train_test_split\n",
    "from transformers import BertTokenizerFast, BertForSequenceClassification\n",
    "from transformers import get_scheduler\n",
    "from tqdm import tqdm\n",
    "import numpy as np\n",
    "from sklearn.metrics import (\n",
    "    classification_report,\n",
    "    ConfusionMatrixDisplay,\n",
    "    confusion_matrix,\n",
    "    roc_auc_score,\n",
    "    precision_recall_curve,\n",
    "    roc_curve,\n",
    "    accuracy_score,\n",
    "    f1_score,\n",
    ")\n",
    "\n",
    "import matplotlib.pyplot as plt"
   ]
  },
  {
   "cell_type": "markdown",
   "id": "7626c81a",
   "metadata": {},
   "source": [
    "## Step 1: Dataset Preparation"
   ]
  },
  {
   "cell_type": "code",
   "execution_count": 2,
   "id": "4681a61d",
   "metadata": {},
   "outputs": [],
   "source": [
    "# Load and preprocess the dataset\n",
    "df = pd.read_csv(\"../data/raw/IMDB Dataset.csv\")\n",
    "\n",
    "# Remove duplicate reviews to avoid bias\n",
    "df = df.drop_duplicates()\n",
    "\n",
    "df[\"label\"] = df[\"sentiment\"].map({\"positive\": 1, \"negative\": 0})"
   ]
  },
  {
   "cell_type": "code",
   "execution_count": 3,
   "id": "a06a9bb2",
   "metadata": {},
   "outputs": [],
   "source": [
    "# Split the dataset with stratification\n",
    "train_texts, val_texts, train_labels, val_labels = train_test_split(\n",
    "    df[\"review\"].tolist(),\n",
    "    df[\"label\"].tolist(),\n",
    "    test_size=0.2,\n",
    "    stratify=df[\"label\"],\n",
    "    random_state=42,\n",
    ")"
   ]
  },
  {
   "cell_type": "markdown",
   "id": "9dfe2e86",
   "metadata": {},
   "source": [
    "**Why Use Stratified 80:20 Split Instead of K-Fold for Deep Models?**\n",
    "\n",
    "While **K-Fold Cross-Validation** (especially Stratified K-Fold) provides more robust evaluation, we chose a **stratified 80:20 train-test split** for deep models like LSTM and BERT due to practical constraints:\n",
    "\n",
    "**1. Time Efficiency**\n",
    "\n",
    "* Deep models like BERT and LSTM require **significantly longer training times** compared to classical models.\n",
    "* Performing K-fold would multiply training time by *K* (e.g., 5x longer for 5-fold), which is not feasible within limited development time.\n",
    "\n",
    "**2. Memory and Hardware Constraints**\n",
    "\n",
    "* Deep learning models consume large amounts of memory (especially with BERT).\n",
    "* Running multiple folds in sequence increases risk of **OOM (Out-of-Memory)** errors, especially without GPU or on shared hardware.\n",
    "\n",
    "**3. Stratified Split Still Preserves Class Distribution**\n",
    "\n",
    "* We still ensure fair evaluation by using a **stratified split**, so class balance is maintained in both training and test sets.\n",
    "* This mitigates a key downside of simple random splits and keeps evaluation representative.\n",
    "\n",
    "**4. Tradeoff for Speed and Comparability**\n",
    "\n",
    "* Since the same stratified split is used across **all deep models**, it ensures a **fair comparison**.\n",
    "* This also aligns with the classical models' evaluation strategy, making results easier to interpret.\n"
   ]
  },
  {
   "cell_type": "markdown",
   "id": "057f73b5",
   "metadata": {},
   "source": [
    "## Step 2: Tokenization\n",
    "\n",
    "We use **BERT tokenizer** from HuggingFace Transformers. It performs several tasks:\n",
    "- **Lowercasing** (for `bert-base-uncased` model)\n",
    "- **WordPiece tokenization**: breaks words into subword units (e.g. \"unbelievable\" → \"un\", \"##believable\")\n",
    "- **Padding and truncation** to fit input into fixed size"
   ]
  },
  {
   "cell_type": "code",
   "execution_count": 4,
   "id": "2620ba76",
   "metadata": {},
   "outputs": [],
   "source": [
    "# Use a pretrained BERT tokenizer\n",
    "tokenizer = BertTokenizerFast.from_pretrained(\"bert-base-uncased\")\n",
    "train_encodings = tokenizer(\n",
    "    train_texts, truncation=True, padding=True, max_length=256\n",
    ")\n",
    "val_encodings = tokenizer(\n",
    "    val_texts, truncation=True, padding=True, max_length=256\n",
    ")"
   ]
  },
  {
   "cell_type": "markdown",
   "id": "27d7dd90",
   "metadata": {},
   "source": [
    "### Visualization of Tokenization Example"
   ]
  },
  {
   "cell_type": "code",
   "execution_count": 5,
   "id": "c72cb8f3",
   "metadata": {},
   "outputs": [
    {
     "name": "stdout",
     "output_type": "stream",
     "text": [
      "Original text: Unbelievable movie, I loved it!\n",
      "BERT tokens: ['unbelievable', 'movie', ',', 'i', 'loved', 'it', '!']\n"
     ]
    }
   ],
   "source": [
    "sample = \"Unbelievable movie, I loved it!\"\n",
    "tokens = tokenizer.tokenize(sample)\n",
    "print(\"Original text:\", sample)\n",
    "print(\"BERT tokens:\", tokens)"
   ]
  },
  {
   "cell_type": "markdown",
   "id": "ece45a38",
   "metadata": {},
   "source": [
    "## Step 3: PyTorch Dataset"
   ]
  },
  {
   "cell_type": "code",
   "execution_count": 6,
   "id": "927e5344",
   "metadata": {},
   "outputs": [],
   "source": [
    "class IMDbDataset(Dataset):\n",
    "    def __init__(self, encodings, labels):\n",
    "        self.encodings = encodings\n",
    "        self.labels = labels\n",
    "\n",
    "    def __len__(self):\n",
    "        return len(self.labels)\n",
    "\n",
    "    def __getitem__(self, idx):\n",
    "        item = {\n",
    "            key: torch.tensor(val[idx]) for key, val in self.encodings.items()\n",
    "        }\n",
    "        item[\"labels\"] = torch.tensor(self.labels[idx])\n",
    "        return item\n",
    "\n",
    "\n",
    "# Create datasets\n",
    "train_dataset = IMDbDataset(train_encodings, train_labels)\n",
    "val_dataset = IMDbDataset(val_encodings, val_labels)"
   ]
  },
  {
   "cell_type": "markdown",
   "id": "ead35db0",
   "metadata": {},
   "source": [
    "## Step 4: Simple LSTM Model\n",
    "\n",
    "LSTM (Long Short-Term Memory) is a type of Recurrent Neural Network (RNN) designed to handle sequence prediction problems and overcome the vanishing gradient issue.\n",
    "\n",
    "**Key Components:**\n",
    "- **Embedding Layer:** Converts word indices into dense vectors.\n",
    "- **LSTM Layer:** Processes sequences with memory cells and gates to capture long-range dependencies.\n",
    "- **Dropout Layer:** Prevents overfitting.\n",
    "- **Fully Connected Layer:** Outputs class logits.\n",
    "\n",
    "**Parameters:**\n",
    "- `embedding_dim`: Size of the embedding vector.\n",
    "- `hidden_dim`: Number of features in hidden state.\n",
    "- `output_dim`: Number of classes.\n",
    "- `vocab_size`: Number of tokens in the tokenizer vocabulary.\n",
    "\n",
    "The LSTM uses the final hidden state to make a prediction about sentiment."
   ]
  },
  {
   "cell_type": "code",
   "execution_count": 7,
   "id": "f24a00af",
   "metadata": {},
   "outputs": [],
   "source": [
    "class LSTMClassifier(nn.Module):\n",
    "    def __init__(self, vocab_size, embedding_dim, hidden_dim, output_dim):\n",
    "        super(LSTMClassifier, self).__init__()\n",
    "        self.embedding = nn.Embedding(vocab_size, embedding_dim)\n",
    "        self.lstm = nn.LSTM(embedding_dim, hidden_dim, batch_first=True)\n",
    "        self.fc = nn.Linear(hidden_dim, output_dim)\n",
    "        self.dropout = nn.Dropout(0.3)\n",
    "\n",
    "    def forward(self, input_ids):\n",
    "        embedded = self.embedding(input_ids)\n",
    "        _, (hidden, _) = self.lstm(embedded)\n",
    "        out = self.fc(self.dropout(hidden[-1]))\n",
    "        return out"
   ]
  },
  {
   "cell_type": "code",
   "execution_count": 8,
   "id": "9c465cbe",
   "metadata": {},
   "outputs": [
    {
     "name": "stderr",
     "output_type": "stream",
     "text": [
      "  0%|          | 0/2480 [00:00<?, ?it/s]"
     ]
    },
    {
     "name": "stderr",
     "output_type": "stream",
     "text": [
      "100%|██████████| 2480/2480 [04:26<00:00,  9.31it/s]\n"
     ]
    },
    {
     "name": "stdout",
     "output_type": "stream",
     "text": [
      "Epoch 1 | Loss: 0.6926\n"
     ]
    },
    {
     "name": "stderr",
     "output_type": "stream",
     "text": [
      "100%|██████████| 2480/2480 [02:15<00:00, 18.30it/s]"
     ]
    },
    {
     "name": "stdout",
     "output_type": "stream",
     "text": [
      "Epoch 2 | Loss: 0.4971\n",
      "Saved LSTM model state to ../models/lstm_model.pt\n"
     ]
    },
    {
     "name": "stderr",
     "output_type": "stream",
     "text": [
      "\n"
     ]
    }
   ],
   "source": [
    "# Dataloaders\n",
    "train_loader = DataLoader(train_dataset, batch_size=16, shuffle=True)\n",
    "val_loader = DataLoader(val_dataset, batch_size=16)\n",
    "\n",
    "# Parameters for LSTM model\n",
    "VOCAB_SIZE = tokenizer.vocab_size\n",
    "EMBED_DIM = 128\n",
    "HIDDEN_DIM = 128\n",
    "OUTPUT_DIM = 2\n",
    "\n",
    "lstm_model = LSTMClassifier(VOCAB_SIZE, EMBED_DIM, HIDDEN_DIM, OUTPUT_DIM)\n",
    "device = torch.device(\"cuda\" if torch.cuda.is_available() else \"cpu\")\n",
    "lstm_model.to(device)\n",
    "lstm_filename = \"../models/lstm_model.pt\"\n",
    "try:\n",
    "    state_dict = joblib.load(lstm_filename)\n",
    "    lstm_model.load_state_dict(state_dict)\n",
    "    print(f\"Loaded LSTM model state from {lstm_filename}\")\n",
    "\n",
    "except FileNotFoundError:\n",
    "    # Training LSTM model\n",
    "    optimizer = torch.optim.Adam(lstm_model.parameters(), lr=1e-3)\n",
    "    loss_fn = nn.CrossEntropyLoss()\n",
    "\n",
    "    lstm_model.train()\n",
    "    for epoch in range(2):\n",
    "        total_loss = 0\n",
    "        for batch in tqdm(train_loader):\n",
    "            optimizer.zero_grad()\n",
    "            input_ids = batch[\"input_ids\"].to(device)\n",
    "            labels = batch[\"labels\"].to(device)\n",
    "            outputs = lstm_model(input_ids)\n",
    "            loss = loss_fn(outputs, labels)\n",
    "            loss.backward()\n",
    "            optimizer.step()\n",
    "            total_loss += loss.item()\n",
    "        print(f\"Epoch {epoch+1} | Loss: {total_loss / len(train_loader):.4f}\")\n",
    "\n",
    "    # Save LSTM model\n",
    "    joblib.dump(lstm_model.state_dict(), lstm_filename)\n",
    "\n",
    "    print(f\"Saved LSTM model state to {lstm_filename}\")"
   ]
  },
  {
   "cell_type": "code",
   "execution_count": 9,
   "id": "8b184de7",
   "metadata": {},
   "outputs": [
    {
     "name": "stdout",
     "output_type": "stream",
     "text": [
      "LSTM Classifier Evaluation:\n",
      "              precision    recall  f1-score   support\n",
      "\n",
      "           0       0.88      0.79      0.83      4940\n",
      "           1       0.81      0.90      0.85      4977\n",
      "\n",
      "    accuracy                           0.84      9917\n",
      "   macro avg       0.85      0.84      0.84      9917\n",
      "weighted avg       0.85      0.84      0.84      9917\n",
      "\n"
     ]
    },
    {
     "data": {
      "image/png": "[encoded data removed]",
      "text/plain": [
       "<Figure size 640x480 with 2 Axes>"
      ]
     },
     "metadata": {},
     "output_type": "display_data"
    },
    {
     "data": {
      "image/png": "[encoded data removed]",
      "text/plain": [
       "<Figure size 640x480 with 1 Axes>"
      ]
     },
     "metadata": {},
     "output_type": "display_data"
    }
   ],
   "source": [
    "# Evaluate LSTM model\n",
    "lstm_model.eval()\n",
    "lstm_preds, lstm_probs, true_labels = [], [], []\n",
    "with torch.no_grad():\n",
    "    for batch in val_loader:\n",
    "        input_ids = batch[\"input_ids\"].to(device)\n",
    "        labels = batch[\"labels\"].to(device)\n",
    "        outputs = lstm_model(input_ids)\n",
    "        prob = torch.softmax(outputs, dim=1)\n",
    "        lstm_preds.extend(torch.argmax(outputs, axis=1).cpu().numpy())\n",
    "        lstm_probs.extend(prob[:, 1].cpu().numpy())\n",
    "        true_labels.extend(labels.cpu().numpy())\n",
    "\n",
    "print(\"LSTM Classifier Evaluation:\")\n",
    "print(classification_report(true_labels, lstm_preds))\n",
    "lstm_results = {\n",
    "    \"accuracy\": accuracy_score(val_labels, lstm_preds),\n",
    "    \"f1\": f1_score(val_labels, lstm_preds, average=\"macro\"),\n",
    "    \"roc_auc\": roc_auc_score(val_labels, lstm_probs),\n",
    "}\n",
    "ConfusionMatrixDisplay(confusion_matrix(true_labels, lstm_preds)).plot()\n",
    "plt.title(\"LSTM Confusion Matrix\")\n",
    "plt.show()\n",
    "\n",
    "fpr, tpr, _ = roc_curve(true_labels, lstm_probs)\n",
    "plt.plot(fpr, tpr)\n",
    "plt.title(\"LSTM ROC Curve\")\n",
    "plt.xlabel(\"FPR\")\n",
    "plt.ylabel(\"TPR\")\n",
    "plt.grid(True)\n",
    "plt.show()"
   ]
  },
  {
   "cell_type": "code",
   "execution_count": 10,
   "id": "ff85dc5b",
   "metadata": {},
   "outputs": [
    {
     "data": {
      "text/plain": [
       "8882"
      ]
     },
     "execution_count": 10,
     "metadata": {},
     "output_type": "execute_result"
    }
   ],
   "source": [
    "# Clear memory\n",
    "del lstm_model\n",
    "del lstm_preds, lstm_probs  # or any large outputs\n",
    "\n",
    "gc.collect()"
   ]
  },
  {
   "cell_type": "markdown",
   "id": "e8b7d890",
   "metadata": {},
   "source": [
    "## Step 5: Fine-Tuning BERT\n",
    "\n",
    "BERT (Bidirectional Encoder Representations from Transformers) is a large pre-trained transformer model.\n",
    "Fine-tuning BERT means adapting it to a specific task (sentiment classification) by training on a labeled dataset.\n",
    "\n",
    "**Key Concepts:**\n",
    "- **Tokenizer:** Breaks text into WordPiece tokens.\n",
    "- **Positional Embeddings:** Added to token embeddings.\n",
    "- **Transformer Encoder:** Uses self-attention to capture context.\n",
    "- **Classification Head:** A linear layer on top of BERT's `[CLS]` token output.\n",
    "\n",
    "**Training Setup:**\n",
    "- **Optimizer**: `AdamW`, with weight decay. This is standard practice in Hugging Face and modern transformer libraries when fine-tuning large models. This is more proper than Adam because it tends to overfit when fine-tuning large pre-trained models like BERT.\n",
    "- **Scheduler**: Linear learning rate warm-up and decay. This allows gradients to stabilize, avoiding divergence. Especially for BERT model which usually sensitive to large learning rates at the beginning.\n",
    "- **Loss**: Cross-entropy for binary classification."
   ]
  },
  {
   "cell_type": "code",
   "execution_count": 14,
   "id": "f5113f02",
   "metadata": {},
   "outputs": [
    {
     "name": "stderr",
     "output_type": "stream",
     "text": [
      "Some weights of BertForSequenceClassification were not initialized from the model checkpoint at bert-base-uncased and are newly initialized: ['classifier.bias', 'classifier.weight']\n",
      "You should probably TRAIN this model on a down-stream task to be able to use it for predictions and inference.\n",
      "100%|██████████| 2480/2480 [5:49:15<00:00,  8.45s/it]   \n"
     ]
    },
    {
     "name": "stdout",
     "output_type": "stream",
     "text": [
      "Epoch 1 | BERT Loss: 0.2551\n"
     ]
    },
    {
     "name": "stderr",
     "output_type": "stream",
     "text": [
      "100%|██████████| 2480/2480 [6:11:38<00:00,  8.99s/it]   \n"
     ]
    },
    {
     "name": "stdout",
     "output_type": "stream",
     "text": [
      "Epoch 2 | BERT Loss: 0.1021\n",
      "Saved fine-tuned BERT model to ../models/bert_finetuned\n"
     ]
    }
   ],
   "source": [
    "# Dataloaders\n",
    "train_loader = DataLoader(train_dataset, batch_size=16, shuffle=True)\n",
    "val_loader = DataLoader(val_dataset, batch_size=16)\n",
    "\n",
    "bert_path = \"../models/bert_finetuned\"\n",
    "try:\n",
    "    bert_model = BertForSequenceClassification.from_pretrained(bert_path)\n",
    "    print(f\"Loaded fine-tuned BERT model from {bert_path}\")\n",
    "\n",
    "except Exception:\n",
    "    bert_model = BertForSequenceClassification.from_pretrained(\n",
    "        \"bert-base-uncased\", num_labels=2\n",
    "    )\n",
    "    bert_model.to(device)\n",
    "\n",
    "    # Define optimizer and scheduler\n",
    "    optimizer = torch.optim.AdamW(bert_model.parameters(), lr=5e-5)\n",
    "    total_steps = len(train_loader) * 2\n",
    "    scheduler = get_scheduler(\n",
    "        \"linear\",\n",
    "        optimizer=optimizer,\n",
    "        num_warmup_steps=0,\n",
    "        num_training_steps=total_steps,\n",
    "    )\n",
    "\n",
    "    # Fine-tune BERT\n",
    "    bert_model.train()\n",
    "    for epoch in range(2):\n",
    "        total_loss = 0\n",
    "        for batch in tqdm(train_loader):\n",
    "            optimizer.zero_grad()\n",
    "            batch = {k: v.to(device) for k, v in batch.items()}\n",
    "            outputs = bert_model(**batch)\n",
    "            loss = outputs.loss\n",
    "            loss.backward()\n",
    "            optimizer.step()\n",
    "            scheduler.step()\n",
    "            total_loss += loss.item()\n",
    "        print(\n",
    "            f\"Epoch {epoch+1} | BERT Loss: {total_loss / len(train_loader):.4f}\"\n",
    "        )\n",
    "\n",
    "    # Save BERT model\n",
    "    bert_model.save_pretrained(bert_path)\n",
    "    tokenizer.save_pretrained(bert_path)\n",
    "\n",
    "    print(f\"Saved fine-tuned BERT model to {bert_path}\")"
   ]
  },
  {
   "cell_type": "code",
   "execution_count": 15,
   "id": "617bc2fe",
   "metadata": {},
   "outputs": [
    {
     "name": "stdout",
     "output_type": "stream",
     "text": [
      "BERT Evaluation:\n",
      "              precision    recall  f1-score   support\n",
      "\n",
      "           0       0.93      0.92      0.92      4940\n",
      "           1       0.92      0.93      0.93      4977\n",
      "\n",
      "    accuracy                           0.93      9917\n",
      "   macro avg       0.93      0.93      0.93      9917\n",
      "weighted avg       0.93      0.93      0.93      9917\n",
      "\n"
     ]
    },
    {
     "data": {
      "image/png": "[encoded data removed]",
      "text/plain": [
       "<Figure size 640x480 with 2 Axes>"
      ]
     },
     "metadata": {},
     "output_type": "display_data"
    },
    {
     "data": {
      "image/png": "[encoded data removed]",
      "text/plain": [
       "<Figure size 640x480 with 1 Axes>"
      ]
     },
     "metadata": {},
     "output_type": "display_data"
    }
   ],
   "source": [
    "# Evaluate BERT\n",
    "bert_model.eval()\n",
    "bert_preds, bert_probs, true_labels = [], [], []\n",
    "with torch.no_grad():\n",
    "    for batch in val_loader:\n",
    "        batch = {k: v.to(device) for k, v in batch.items()}\n",
    "        outputs = bert_model(**batch)\n",
    "        probs = torch.softmax(outputs.logits, dim=1)\n",
    "        preds = torch.argmax(probs, dim=1)\n",
    "        bert_preds.extend(preds.cpu().numpy())\n",
    "        bert_probs.extend(probs[:, 1].cpu().numpy())\n",
    "        true_labels.extend(batch[\"labels\"].cpu().numpy())\n",
    "\n",
    "print(\"BERT Evaluation:\")\n",
    "print(classification_report(true_labels, bert_preds))\n",
    "bert_results = {\n",
    "    \"accuracy\": accuracy_score(val_labels, bert_preds),\n",
    "    \"f1\": f1_score(val_labels, bert_preds, average=\"macro\"),\n",
    "    \"roc_auc\": roc_auc_score(val_labels, bert_probs),\n",
    "}\n",
    "ConfusionMatrixDisplay(confusion_matrix(true_labels, bert_preds)).plot()\n",
    "plt.title(\"BERT Confusion Matrix\")\n",
    "plt.show()\n",
    "\n",
    "fpr, tpr, _ = roc_curve(true_labels, bert_probs)\n",
    "plt.plot(fpr, tpr)\n",
    "plt.title(\"BERT ROC Curve\")\n",
    "plt.xlabel(\"FPR\")\n",
    "plt.ylabel(\"TPR\")\n",
    "plt.grid(True)\n",
    "plt.show()"
   ]
  },
  {
   "cell_type": "markdown",
   "id": "43759498",
   "metadata": {},
   "source": [
    "From the outputted **confusion matrices** and **ROC curves**, we can make a detailed comparison between the **LSTM** and **BERT** models.\n",
    "\n",
    "**ROC Curve** reflects the trade-off between **True Positive Rate (TPR)** and **False Positive Rate (FPR)** at various thresholds.\n",
    "\n",
    "**LSTM ROC Curve**\n",
    "\n",
    "* The ROC curve is modest, indicating **medium discriminative power**.\n",
    "* Appears to be **curved but not steep**, implying **average performance**.\n",
    "\n",
    "**BERT ROC Curve**\n",
    "\n",
    "* The ROC curve is very close to the top-left corner — indicating **high sensitivity and specificity**.\n",
    "* **Steep curve**, suggesting **excellent classification performance**.\n",
    "\n",
    "**BERT's ROC curve shows near-optimal performance**, whereas LSTM's curve indicates a relatively weaker model.\n",
    "\n",
    "**Conclusion**\n",
    "\n",
    "The **BERT model clearly outperforms the LSTM** model in classifying IMDB sentiment reviews — both in terms of confusion matrix statistics (accuracy, precision, recall) and the ROC curve (discriminative ability). BERT's contextual understanding and attention mechanism give it a substantial edge over LSTM's sequential modeling.\n",
    "\n",
    "If we want high accuracy and robust generalization, **BERT is the better choice**. LSTM can still be viable for lightweight or real-time applications with limited resources."
   ]
  },
  {
   "cell_type": "code",
   "execution_count": 17,
   "id": "8e4d3155",
   "metadata": {},
   "outputs": [
    {
     "data": {
      "text/plain": [
       "11427"
      ]
     },
     "execution_count": 17,
     "metadata": {},
     "output_type": "execute_result"
    }
   ],
   "source": [
    "# Clear memory\n",
    "del bert_model\n",
    "del bert_preds, bert_probs  # or any large outputs\n",
    "\n",
    "gc.collect()"
   ]
  },
  {
   "cell_type": "markdown",
   "id": "400c7fb2",
   "metadata": {},
   "source": [
    "## Comparison of Models\n",
    "\n",
    "To compare the models, we include both classical and deep learning approaches:\n",
    "\n",
    "- **Logistic Regression (TF-IDF):** Serves as a traditional baseline using sparse lexical features.\n",
    "- **LSTM:** Learns sequential patterns in word embeddings.\n",
    "- **BERT Fine-Tuned:** End-to-end fine-tuned transformer model for classification.\n",
    "\n",
    "**Evaluation Metrics**\n",
    "\n",
    "* **Accuracy** gives an overall view but can be misleading in imbalanced datasets.\n",
    "* **Macro F1-score** balances precision and recall across both classes, and avoids being overly optimistic in class-imbalanced or skewed predictions. Since we care about both false positives and false negatives in sentiment classification, this is a safer metric.\n",
    "* **ROC AUC** measures ability to rank positive over negative, important when thresholds vary."
   ]
  },
  {
   "cell_type": "code",
   "execution_count": 18,
   "id": "f8a707a6",
   "metadata": {},
   "outputs": [
    {
     "name": "stdout",
     "output_type": "stream",
     "text": [
      "                Model  Accuracy  F1 Score   ROC AUC\n",
      "0  LogisticRegression  0.890222  0.890191  0.956986\n",
      "1       MultinomialNB  0.856137  0.856133  0.931443\n",
      "2           LinearSVC  0.879896  0.879883  0.951241\n",
      "0                LSTM  0.843199  0.842704  0.925476\n",
      "1                BERT  0.925179  0.925172  0.978568\n"
     ]
    }
   ],
   "source": [
    "# Combine results\n",
    "eval_df = pd.read_csv(\"../models/eval_classical.csv\", index_col=0)\n",
    "eval_deep_df = pd.DataFrame(\n",
    "    {\n",
    "        \"Model\": [\"LSTM\", \"BERT\"],\n",
    "        \"Accuracy\": [lstm_results[\"accuracy\"], bert_results[\"accuracy\"]],\n",
    "        \"F1 Score\": [lstm_results[\"f1\"], bert_results[\"f1\"]],\n",
    "        \"ROC AUC\": [lstm_results[\"roc_auc\"], bert_results[\"roc_auc\"]],\n",
    "    }\n",
    ")\n",
    "\n",
    "eval_df = pd.concat([eval_df, eval_deep_df])\n",
    "eval_df.to_csv(\"../models/eval_deep.csv\")\n",
    "\n",
    "print(eval_df)"
   ]
  },
  {
   "cell_type": "code",
   "execution_count": 19,
   "id": "6717daa1",
   "metadata": {},
   "outputs": [
    {
     "data": {
      "image/png": "[encoded data removed]",
      "text/plain": [
       "<Figure size 1000x600 with 1 Axes>"
      ]
     },
     "metadata": {},
     "output_type": "display_data"
    }
   ],
   "source": [
    "# Visualize comparison\n",
    "eval_df.set_index(\"Model\")[[\"Accuracy\", \"F1 Score\", \"ROC AUC\"]].plot(\n",
    "    kind=\"bar\", figsize=(10, 6)\n",
    ")\n",
    "plt.title(\"Model Comparison on Validation Set\")\n",
    "plt.ylabel(\"Score\")\n",
    "plt.ylim(0.5, 1.0)\n",
    "plt.grid(True)\n",
    "plt.tight_layout()\n",
    "plt.show()"
   ]
  },
  {
   "cell_type": "markdown",
   "id": "c17b8af5",
   "metadata": {},
   "source": [
    "\n",
    "**1. BERT Significantly Outperforms All Other Models**\n",
    "\n",
    "* BERT achieves the **highest scores across all metrics**, particularly with:\n",
    "\n",
    "  * **ROC AUC of 0.9785**: excellent separability between classes.\n",
    "  * **F1 Score of 0.9251**: very strong balance between precision and recall.\n",
    "* This confirms that **contextualized word embeddings** from a pre-trained language model are highly effective for sentiment classification tasks.\n",
    "\n",
    "**2. Logistic Regression Performs Surprisingly Well**\n",
    "\n",
    "* Despite its simplicity, Logistic Regression (with TF-IDF features) delivers competitive results:\n",
    "\n",
    "  * **Accuracy 89.1%**, close to BERT.\n",
    "  * **ROC AUC 0.9569**, indicating strong classification boundary.\n",
    "* This validates that **bag-of-words approaches with robust preprocessing** can still yield high performance on structured sentiment data like IMDB.\n",
    "\n",
    "**3. LSTM Underperforms Compared to Expectations**\n",
    "\n",
    "* The LSTM model lags behind significantly:\n",
    "\n",
    "  * Only **84.2% F1 Score**, **0.9254 ROC AUC**\n",
    "* Possible reasons:\n",
    "\n",
    "  * Model capacity or architecture might not have been optimal.\n",
    "  * LSTM requires more careful tuning and longer training time.\n",
    "  * Lacks the deep contextual understanding of BERT.\n",
    "\n",
    "**4. Classical Models Are a Strong Baseline**\n",
    "\n",
    "* LinearSVC and Naive Bayes also performed well, both **above 85% accuracy**.\n",
    "* These models are much faster to train and require less compute, making them great **production candidates** when resources are limited.\n",
    "\n",
    "**Conclusion**\n",
    "\n",
    "* **BERT** is the most effective model, ideal for production **if resources allow**.\n",
    "* **Logistic Regression** is the best trade-off for **speed vs. performance**.\n",
    "* **LSTM** needs further tuning or larger capacity to be competitive.\n",
    "* Classical models remain **relevant and reliable baselines** for sentiment tasks.\n"
   ]
  },
  {
   "cell_type": "code",
   "execution_count": null,
   "id": "fb0288b8",
   "metadata": {},
   "outputs": [],
   "source": []
  }
 ],
 "metadata": {
  "kernelspec": {
   "display_name": "Python 3",
   "language": "python",
   "name": "python3"
  },
  "language_info": {
   "codemirror_mode": {
    "name": "ipython",
    "version": 3
   },
   "file_extension": ".py",
   "mimetype": "text/x-python",
   "name": "python",
   "nbconvert_exporter": "python",
   "pygments_lexer": "ipython3",
   "version": "3.10.18"
  }
 },
 "nbformat": 4,
 "nbformat_minor": 5
}
